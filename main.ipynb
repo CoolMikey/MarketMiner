{
 "cells": [
  {
   "cell_type": "code",
   "execution_count": null,
   "id": "96ac501b",
   "metadata": {},
   "outputs": [
    {
     "name": "stdout",
     "output_type": "stream",
     "text": [
      "Collecting twelvedata[pandas]\n",
      "  Downloading twelvedata-1.2.25-py2.py3-none-any.whl.metadata (19 kB)\n",
      "Collecting pytimeparse<2,>=1.1 (from twelvedata[pandas])\n",
      "  Downloading pytimeparse-1.1.8-py2.py3-none-any.whl.metadata (3.4 kB)\n",
      "Collecting requests<3,>=2.22 (from twelvedata[pandas])\n",
      "  Using cached requests-2.32.3-py3-none-any.whl.metadata (4.6 kB)\n",
      "Collecting pandas>=0.24 (from twelvedata[pandas])\n",
      "  Using cached pandas-2.2.3-cp313-cp313-win_amd64.whl.metadata (19 kB)\n",
      "Collecting charset-normalizer<4,>=2 (from requests<3,>=2.22->twelvedata[pandas])\n",
      "  Downloading charset_normalizer-3.4.2-cp313-cp313-win_amd64.whl.metadata (36 kB)\n",
      "Collecting idna<4,>=2.5 (from requests<3,>=2.22->twelvedata[pandas])\n",
      "  Using cached idna-3.10-py3-none-any.whl.metadata (10 kB)\n",
      "Collecting urllib3<3,>=1.21.1 (from requests<3,>=2.22->twelvedata[pandas])\n",
      "  Using cached urllib3-2.4.0-py3-none-any.whl.metadata (6.5 kB)\n",
      "Collecting certifi>=2017.4.17 (from requests<3,>=2.22->twelvedata[pandas])\n",
      "  Downloading certifi-2025.4.26-py3-none-any.whl.metadata (2.5 kB)\n",
      "Collecting numpy>=1.26.0 (from pandas>=0.24->twelvedata[pandas])\n",
      "  Downloading numpy-2.2.5-cp313-cp313-win_amd64.whl.metadata (60 kB)\n",
      "Requirement already satisfied: python-dateutil>=2.8.2 in c:\\nextcloud\\studia - pw\\semestr 6\\hurtownie danych\\marketminer\\marketminer\\.venv\\lib\\site-packages (from pandas>=0.24->twelvedata[pandas]) (2.9.0.post0)\n",
      "Collecting pytz>=2020.1 (from pandas>=0.24->twelvedata[pandas])\n",
      "  Downloading pytz-2025.2-py2.py3-none-any.whl.metadata (22 kB)\n",
      "Collecting tzdata>=2022.7 (from pandas>=0.24->twelvedata[pandas])\n",
      "  Downloading tzdata-2025.2-py2.py3-none-any.whl.metadata (1.4 kB)\n",
      "Requirement already satisfied: six>=1.5 in c:\\nextcloud\\studia - pw\\semestr 6\\hurtownie danych\\marketminer\\marketminer\\.venv\\lib\\site-packages (from python-dateutil>=2.8.2->pandas>=0.24->twelvedata[pandas]) (1.17.0)\n",
      "Downloading twelvedata-1.2.25-py2.py3-none-any.whl (46 kB)\n",
      "Downloading pytimeparse-1.1.8-py2.py3-none-any.whl (10.0 kB)\n",
      "Using cached requests-2.32.3-py3-none-any.whl (64 kB)\n",
      "Downloading charset_normalizer-3.4.2-cp313-cp313-win_amd64.whl (105 kB)\n",
      "Using cached idna-3.10-py3-none-any.whl (70 kB)\n",
      "Using cached urllib3-2.4.0-py3-none-any.whl (128 kB)\n",
      "Downloading certifi-2025.4.26-py3-none-any.whl (159 kB)\n",
      "Using cached pandas-2.2.3-cp313-cp313-win_amd64.whl (11.5 MB)\n",
      "Downloading numpy-2.2.5-cp313-cp313-win_amd64.whl (12.6 MB)\n",
      "   ---------------------------------------- 0.0/12.6 MB ? eta -:--:--\n",
      "   ---------------------- ----------------- 7.1/12.6 MB 43.4 MB/s eta 0:00:01\n",
      "   ---------------------------------------- 12.6/12.6 MB 40.3 MB/s eta 0:00:00\n",
      "Downloading pytz-2025.2-py2.py3-none-any.whl (509 kB)\n",
      "Downloading tzdata-2025.2-py2.py3-none-any.whl (347 kB)\n",
      "Installing collected packages: pytz, pytimeparse, urllib3, tzdata, numpy, idna, charset-normalizer, certifi, requests, pandas, twelvedata\n",
      "\n",
      "   ----------------------------------------  0/11 [pytz]\n",
      "   ----------------------------------------  0/11 [pytz]\n",
      "   ------- --------------------------------  2/11 [urllib3]\n",
      "   ---------- -----------------------------  3/11 [tzdata]\n",
      "   ---------- -----------------------------  3/11 [tzdata]\n",
      "   -------------- -------------------------  4/11 [numpy]\n",
      "   -------------- -------------------------  4/11 [numpy]\n",
      "   -------------- -------------------------  4/11 [numpy]\n",
      "   -------------- -------------------------  4/11 [numpy]\n",
      "   -------------- -------------------------  4/11 [numpy]\n",
      "   -------------- -------------------------  4/11 [numpy]\n",
      "   -------------- -------------------------  4/11 [numpy]\n",
      "   -------------- -------------------------  4/11 [numpy]\n",
      "   -------------- -------------------------  4/11 [numpy]\n",
      "   -------------- -------------------------  4/11 [numpy]\n",
      "   -------------- -------------------------  4/11 [numpy]\n",
      "   -------------- -------------------------  4/11 [numpy]\n",
      "   -------------- -------------------------  4/11 [numpy]\n",
      "   -------------- -------------------------  4/11 [numpy]\n",
      "   -------------- -------------------------  4/11 [numpy]\n",
      "   -------------- -------------------------  4/11 [numpy]\n",
      "   -------------- -------------------------  4/11 [numpy]\n",
      "   -------------- -------------------------  4/11 [numpy]\n",
      "   -------------- -------------------------  4/11 [numpy]\n",
      "   -------------- -------------------------  4/11 [numpy]\n",
      "   -------------- -------------------------  4/11 [numpy]\n",
      "   -------------- -------------------------  4/11 [numpy]\n",
      "   -------------- -------------------------  4/11 [numpy]\n",
      "   --------------------- ------------------  6/11 [charset-normalizer]\n",
      "   ----------------------------- ----------  8/11 [requests]\n",
      "   -------------------------------- -------  9/11 [pandas]\n",
      "   -------------------------------- -------  9/11 [pandas]\n",
      "   -------------------------------- -------  9/11 [pandas]\n",
      "   -------------------------------- -------  9/11 [pandas]\n",
      "   -------------------------------- -------  9/11 [pandas]\n",
      "   -------------------------------- -------  9/11 [pandas]\n",
      "   -------------------------------- -------  9/11 [pandas]\n",
      "   -------------------------------- -------  9/11 [pandas]\n",
      "   -------------------------------- -------  9/11 [pandas]\n",
      "   -------------------------------- -------  9/11 [pandas]\n",
      "   -------------------------------- -------  9/11 [pandas]\n",
      "   -------------------------------- -------  9/11 [pandas]\n",
      "   -------------------------------- -------  9/11 [pandas]\n",
      "   -------------------------------- -------  9/11 [pandas]\n",
      "   -------------------------------- -------  9/11 [pandas]\n",
      "   -------------------------------- -------  9/11 [pandas]\n",
      "   -------------------------------- -------  9/11 [pandas]\n",
      "   -------------------------------- -------  9/11 [pandas]\n",
      "   -------------------------------- -------  9/11 [pandas]\n",
      "   -------------------------------- -------  9/11 [pandas]\n",
      "   -------------------------------- -------  9/11 [pandas]\n",
      "   -------------------------------- -------  9/11 [pandas]\n",
      "   -------------------------------- -------  9/11 [pandas]\n",
      "   -------------------------------- -------  9/11 [pandas]\n",
      "   -------------------------------- -------  9/11 [pandas]\n",
      "   -------------------------------- -------  9/11 [pandas]\n",
      "   -------------------------------- -------  9/11 [pandas]\n",
      "   -------------------------------- -------  9/11 [pandas]\n",
      "   -------------------------------- -------  9/11 [pandas]\n",
      "   -------------------------------- -------  9/11 [pandas]\n",
      "   -------------------------------- -------  9/11 [pandas]\n",
      "   -------------------------------- -------  9/11 [pandas]\n",
      "   -------------------------------- -------  9/11 [pandas]\n",
      "   -------------------------------- -------  9/11 [pandas]\n",
      "   -------------------------------- -------  9/11 [pandas]\n",
      "   -------------------------------- -------  9/11 [pandas]\n",
      "   -------------------------------- -------  9/11 [pandas]\n",
      "   -------------------------------- -------  9/11 [pandas]\n",
      "   -------------------------------- -------  9/11 [pandas]\n",
      "   -------------------------------- -------  9/11 [pandas]\n",
      "   -------------------------------- -------  9/11 [pandas]\n",
      "   -------------------------------- -------  9/11 [pandas]\n",
      "   -------------------------------- -------  9/11 [pandas]\n",
      "   -------------------------------- -------  9/11 [pandas]\n",
      "   -------------------------------- -------  9/11 [pandas]\n",
      "   -------------------------------- -------  9/11 [pandas]\n",
      "   -------------------------------- -------  9/11 [pandas]\n",
      "   -------------------------------- -------  9/11 [pandas]\n",
      "   -------------------------------- -------  9/11 [pandas]\n",
      "   -------------------------------- -------  9/11 [pandas]\n",
      "   -------------------------------- -------  9/11 [pandas]\n",
      "   -------------------------------- -------  9/11 [pandas]\n",
      "   -------------------------------- -------  9/11 [pandas]\n",
      "   -------------------------------- -------  9/11 [pandas]\n",
      "   -------------------------------- -------  9/11 [pandas]\n",
      "   -------------------------------- -------  9/11 [pandas]\n",
      "   -------------------------------- -------  9/11 [pandas]\n",
      "   -------------------------------- -------  9/11 [pandas]\n",
      "   -------------------------------- -------  9/11 [pandas]\n",
      "   -------------------------------- -------  9/11 [pandas]\n",
      "   -------------------------------- -------  9/11 [pandas]\n",
      "   ------------------------------------ --- 10/11 [twelvedata]\n",
      "   ---------------------------------------- 11/11 [twelvedata]\n",
      "\n",
      "Successfully installed certifi-2025.4.26 charset-normalizer-3.4.2 idna-3.10 numpy-2.2.5 pandas-2.2.3 pytimeparse-1.1.8 pytz-2025.2 requests-2.32.3 twelvedata-1.2.25 tzdata-2025.2 urllib3-2.4.0\n",
      "Note: you may need to restart the kernel to use updated packages.\n"
     ]
    }
   ],
   "source": [
    "pip install twelvedata[pandas] python-dotenv"
   ]
  },
  {
   "cell_type": "markdown",
   "id": "dc0bdbff",
   "metadata": {},
   "source": [
    "# Data from TwelveData"
   ]
  },
  {
   "cell_type": "markdown",
   "id": "ed6f8435",
   "metadata": {},
   "source": [
    "First you have to create an account [here](https://twelvedata.com) and the generate a key [here](https://twelvedata.com/account/api-keys). Place the key in a file named .env and make sure there exists this field:"
   ]
  },
  {
   "cell_type": "markdown",
   "id": "8186bda1",
   "metadata": {},
   "source": [
    "> ⚠️ **Important:** Do **not** share this key or commit the `.env` file to version control. It's already excluded in `.gitignore`."
   ]
  },
  {
   "cell_type": "markdown",
   "id": "f99b50af",
   "metadata": {},
   "source": [
    "> TD_API_KEY=<yllaertubyrtecinreadbackwards>"
   ]
  },
  {
   "cell_type": "code",
   "execution_count": 21,
   "id": "18a142e1",
   "metadata": {},
   "outputs": [
    {
     "data": {
      "text/plain": [
       "'yllaertubyrtecin'"
      ]
     },
     "execution_count": 21,
     "metadata": {},
     "output_type": "execute_result"
    }
   ],
   "source": [
    "a = \"nicetrybutreally\"\n",
    "# backwards\n",
    "b = a[::-1]\n",
    "b"
   ]
  },
  {
   "cell_type": "code",
   "execution_count": 3,
   "id": "3d24e309",
   "metadata": {},
   "outputs": [],
   "source": [
    "from twelvedata import TDClient\n",
    "from dotenv import load_dotenv\n",
    "import os"
   ]
  },
  {
   "cell_type": "code",
   "execution_count": 4,
   "id": "ed5aae2d",
   "metadata": {},
   "outputs": [],
   "source": [
    "load_dotenv()\n",
    "api_key = os.getenv(\"TD_API_KEY\")"
   ]
  },
  {
   "cell_type": "code",
   "execution_count": 8,
   "id": "5dcae8a4",
   "metadata": {},
   "outputs": [
    {
     "name": "stdout",
     "output_type": "stream",
     "text": [
      "                       open    high     low    close  volume\n",
      "datetime                                                    \n",
      "2025-05-05 15:59:00  198.74  199.00  198.71  198.765   73836\n",
      "2025-05-05 15:58:00  198.83  198.90  198.72  198.720   32040\n",
      "2025-05-05 15:57:00  198.75  198.87  198.66  198.840   19798\n",
      "2025-05-05 15:56:00  198.77  198.82  198.66  198.740   16762\n",
      "2025-05-05 15:55:00  198.69  198.91  198.69  198.780   19904\n"
     ]
    }
   ],
   "source": [
    "# Initialize client\n",
    "td = TDClient(apikey=api_key)\n",
    "\n",
    "# Fetch data\n",
    "ts = td.time_series(\n",
    "    symbol=\"AAPL\",\n",
    "    interval=\"1min\",\n",
    "    outputsize=100,\n",
    "    timezone=\"America/New_York\",\n",
    ")\n",
    "\n",
    "df = ts.as_pandas()\n",
    "print(df.head())\n"
   ]
  },
  {
   "cell_type": "code",
   "execution_count": 10,
   "id": "e096e4e3",
   "metadata": {},
   "outputs": [],
   "source": [
    "df.reset_index().to_csv(\"data/raw/AAPL_1min.csv\", index=False)"
   ]
  },
  {
   "cell_type": "code",
   "execution_count": 24,
   "id": "fb333a93",
   "metadata": {},
   "outputs": [
    {
     "name": "stdout",
     "output_type": "stream",
     "text": [
      "                 open       high        low      close    volume\n",
      "datetime                                                        \n",
      "2024-12-30  587.89001  591.73999  584.40997  588.21997  56578800\n",
      "2024-12-27  597.53998  597.78003  590.76001  595.01001  64969300\n",
      "2024-12-26  599.50000  602.47998  598.08002  601.34003  41219100\n",
      "2024-12-24  596.06000  601.34003  595.46997  601.29999  33160100\n",
      "2024-12-23  590.89001  595.29999  587.65997  594.69000  57635800\n"
     ]
    }
   ],
   "source": [
    "# Fetch daily time series data for SPY from 2024-01-01 to 2024-12-31\n",
    "ts = td.time_series(\n",
    "    symbol=\"SPY\",\n",
    "    interval=\"1day\",\n",
    "    start_date=\"2024-01-01\",\n",
    "    end_date=\"2024-12-31\",\n",
    "    timezone=\"America/New_York\"\n",
    ")\n",
    "\n",
    "# Convert the time series data to a pandas DataFrame\n",
    "df = ts.as_pandas()\n",
    "\n",
    "# Display the first few rows of the DataFrame\n",
    "print(df.head())\n",
    "\n",
    "# Optional: Save the DataFrame to a CSV file\n",
    "df.to_csv(\"data/raw/SPY_2024_daily.csv\", index=True)"
   ]
  },
  {
   "cell_type": "markdown",
   "id": "b0eae3f1",
   "metadata": {},
   "source": [
    "# Inflation data"
   ]
  }
 ],
 "metadata": {
  "kernelspec": {
   "display_name": ".venv",
   "language": "python",
   "name": "python3"
  },
  "language_info": {
   "codemirror_mode": {
    "name": "ipython",
    "version": 3
   },
   "file_extension": ".py",
   "mimetype": "text/x-python",
   "name": "python",
   "nbconvert_exporter": "python",
   "pygments_lexer": "ipython3",
   "version": "3.13.2"
  }
 },
 "nbformat": 4,
 "nbformat_minor": 5
}
